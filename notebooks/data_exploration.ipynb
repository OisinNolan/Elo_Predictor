{
 "cells": [
  {
   "cell_type": "markdown",
   "metadata": {},
   "source": [
    "# Some experiments on PGN data"
   ]
  },
  {
   "cell_type": "markdown",
   "metadata": {},
   "source": [
    "### Imports"
   ]
  },
  {
   "cell_type": "code",
   "execution_count": 3,
   "metadata": {},
   "outputs": [],
   "source": [
    "import os\n",
    "import time\n",
    "import chess\n",
    "import numpy as np\n",
    "import matplotlib.pyplot as plt\n",
    "import chess.pgn"
   ]
  },
  {
   "cell_type": "markdown",
   "metadata": {},
   "source": [
    "### Parsing 50k games"
   ]
  },
  {
   "cell_type": "code",
   "execution_count": 4,
   "metadata": {},
   "outputs": [
    {
     "name": "stdout",
     "output_type": "stream",
     "text": [
      "Time elapsed: 198.99153566360474\n"
     ]
    }
   ],
   "source": [
    "start = time.time()\n",
    "\n",
    "pgn = open('../data/fics_202011_notime_50k.pgn')\n",
    "\n",
    "def doNothing():\n",
    "    return\n",
    "\n",
    "while chess.pgn.read_game(pgn):\n",
    "    doNothing()\n",
    "\n",
    "end = time.time()\n",
    "print(f'Time elapsed: {end - start}')"
   ]
  },
  {
   "cell_type": "markdown",
   "metadata": {},
   "source": [
    "### Calculating relative value of pieces for a given colour"
   ]
  },
  {
   "cell_type": "code",
   "execution_count": 5,
   "metadata": {},
   "outputs": [],
   "source": [
    "# [pawn, knight, bishop, rook, queen], see https://en.wikipedia.org/wiki/Chess_piece_relative_value\n",
    "piece_values = [1, 3, 3, 5, 9]\n",
    "\n",
    "# Given chess.Board and chess.Color\n",
    "# Returns sum of piece values for that color\n",
    "def get_piece_value(board, color):\n",
    "    piece_value_sum = 0\n",
    "    for i in range(0, 5):\n",
    "        piece_value_sum += piece_values[i] * len(board.pieces(i+1, color))\n",
    "    return piece_value_sum"
   ]
  },
  {
   "cell_type": "code",
   "execution_count": 6,
   "metadata": {},
   "outputs": [
    {
     "data": {
      "text/plain": [
       "39"
      ]
     },
     "execution_count": 6,
     "metadata": {},
     "output_type": "execute_result"
    }
   ],
   "source": [
    "pgn = open('../data/fics_202011_notime_50k.pgn')\n",
    "\n",
    "game = chess.pgn.read_game(pgn)\n",
    "board = game.board()\n",
    "get_piece_value(board, chess.BLACK)"
   ]
  },
  {
   "cell_type": "markdown",
   "metadata": {},
   "source": [
    "### Game metadata"
   ]
  },
  {
   "cell_type": "code",
   "execution_count": 7,
   "metadata": {},
   "outputs": [
    {
     "data": {
      "text/plain": [
       "Headers(Event='FICS rated blitz game', Site='FICS freechess.org', Date='2020.11.30', Round='?', White='stevharr', Black='nimzoii', Result='1-0', BlackClock='0:05:00.000', BlackElo='1337', BlackRD='0.0', ECO='B32', FICSGamesDBGameNo='474470039', PlyCount='117', Time='23:49:00', TimeControl='300+0', WhiteClock='0:05:00.000', WhiteElo='1677', WhiteRD='0.0')"
      ]
     },
     "execution_count": 7,
     "metadata": {},
     "output_type": "execute_result"
    }
   ],
   "source": [
    "game.headers"
   ]
  },
  {
   "cell_type": "code",
   "execution_count": 8,
   "metadata": {},
   "outputs": [],
   "source": [
    "# Given chess.pgn.Game and chess.Color\n",
    "# Return -1 if draw, 1 if color won, 0 if color lost.\n",
    "def get_game_result(game, color):\n",
    "    if '1/2' in game.headers['Result']:\n",
    "        return -1\n",
    "    elif color == chess.WHITE:\n",
    "        return game.headers['Result'][0]\n",
    "    else:\n",
    "        return game.headers['Result'][2]"
   ]
  },
  {
   "cell_type": "code",
   "execution_count": 9,
   "metadata": {},
   "outputs": [
    {
     "name": "stdout",
     "output_type": "stream",
     "text": [
      "White Elo: 1677, Black Elo: 1337\n",
      "Result for white: 1\n"
     ]
    }
   ],
   "source": [
    "white_elo = game.headers['WhiteElo']\n",
    "black_elo = game.headers['BlackElo']\n",
    "    \n",
    "print(f'White Elo: {white_elo}, Black Elo: {black_elo}')\n",
    "print(f'Result for white: {get_game_result(game, chess.WHITE)}')"
   ]
  },
  {
   "cell_type": "code",
   "execution_count": 17,
   "metadata": {},
   "outputs": [
    {
     "name": "stdout",
     "output_type": "stream",
     "text": [
      "PlyCount:  108\n",
      "White Elo: 1012, Black Elo: 1553\n",
      "Result for white: 0\n",
      "\n",
      "\n",
      "\n",
      "\n",
      "\n",
      "\n",
      "\n",
      "\n",
      "\n",
      "\n",
      "\n",
      "\n",
      "\n",
      "\n",
      "\n",
      "\n",
      "\n",
      "\n",
      "\n",
      "\n",
      "\n",
      "\n",
      "\n",
      "\n",
      "\n",
      "\n",
      "\n",
      "\n",
      "\n",
      "\n",
      "\n",
      "\n",
      "\n",
      "\n",
      "\n",
      "\n",
      "\n",
      "\n",
      "\n",
      "\n",
      "\n",
      "\n",
      "\n",
      "\n",
      "\n",
      "\n",
      "\n",
      "\n",
      "\n",
      "\n",
      "\n",
      "\n",
      "\n",
      "\n",
      "\n",
      "\n",
      "\n",
      "\n",
      "\n",
      "\n",
      "\n",
      "\n",
      "\n",
      "\n",
      "\n",
      "\n",
      "\n",
      "\n",
      "\n",
      "\n",
      "\n",
      "\n",
      "\n",
      "\n",
      "\n",
      "\n",
      "\n",
      "\n",
      "\n",
      "\n",
      "\n",
      "\n",
      "\n",
      "\n",
      "\n",
      "\n",
      "\n",
      "\n",
      "\n",
      "\n",
      "\n",
      "\n",
      "\n",
      "\n",
      "\n",
      "\n",
      "\n",
      "\n",
      "\n",
      "\n",
      "\n",
      "\n",
      "\n",
      "\n",
      "\n",
      "\n",
      "\n",
      "\n"
     ]
    },
    {
     "data": {
      "image/png": "[encoded data removed]",
      "text/plain": [
       "<Figure size 432x288 with 1 Axes>"
      ]
     },
     "metadata": {
      "needs_background": "light"
     },
     "output_type": "display_data"
    },
    {
     "data": {
      "image/png": "[encoded data removed]",
      "text/plain": [
       "<Figure size 432x288 with 1 Axes>"
      ]
     },
     "metadata": {
      "needs_background": "light"
     },
     "output_type": "display_data"
    }
   ],
   "source": [
    "#https://www.chessprogramming.org/Simplified_Evaluation_Function#Piece-Square_Tables\n",
    "\n",
    "pawn_weights_w = np.array([\n",
    "    [0,  0,  0,  0,  0,  0,  0,  0],\n",
    "    [50, 50, 50, 50, 50, 50, 50, 50],\n",
    "    [10, 10, 20, 30, 30, 20, 10, 10],\n",
    "    [5,  5, 10, 25, 25, 10,  5,  5],\n",
    "    [0,  0,  0, 20, 20,  0,  0,  0],\n",
    "    [5, -5,-10,  0,  0,-10, -5,  5],\n",
    "    [5, 10, 10,-20,-20, 10, 10,  5],\n",
    "    [0,  0,  0,  0,  0,  0,  0,  0]\n",
    "])\n",
    "pawn_weights_b = np.flipud(pawn_weights_w)\n",
    "    \n",
    "knight_weights_w = np.array([\n",
    "    [-50,-40,-30,-30,-30,-30,-40,-50],\n",
    "    [-40,-20,  0,  0,  0,  0,-20,-40],\n",
    "    [-30,  0, 10, 15, 15, 10,  0,-30],\n",
    "    [-30,  5, 15, 20, 20, 15,  5,-30],\n",
    "    [-30,  0, 15, 20, 20, 15,  0,-30],\n",
    "    [-30,  5, 10, 15, 15, 10,  5,-30],\n",
    "    [-40,-20,  0,  5,  5,  0,-20,-40],\n",
    "    [-50,-40,-30,-30,-30,-30,-40,-50]\n",
    "])\n",
    "knight_weights_b = np.flipud(knight_weights_w)\n",
    "\n",
    "bishop_weights_w = np.array([\n",
    "    [-20,-10,-10,-10,-10,-10,-10,-20],\n",
    "    [-10,  0,  0,  0,  0,  0,  0,-10],\n",
    "    [-10,  0,  5, 10, 10,  5,  0,-10],\n",
    "    [-10,  5,  5, 10, 10,  5,  5,-10],\n",
    "    [-10,  0, 10, 10, 10, 10,  0,-10],\n",
    "    [-10, 10, 10, 10, 10, 10, 10,-10],\n",
    "    [-10,  5,  0,  0,  0,  0,  5,-10],\n",
    "    [-20,-10,-10,-10,-10,-10,-10,-20]  \n",
    "])\n",
    "bishop_weights_b = np.flipud(bishop_weights_w)\n",
    "\n",
    "rook_weights_w = np.array([\n",
    "    [0,  0,  0,  0,  0,  0,  0,  0],\n",
    "    [5, 10, 10, 10, 10, 10, 10,  5],\n",
    "    [-5,  0,  0,  0,  0,  0,  0, -5],\n",
    "    [-5,  0,  0,  0,  0,  0,  0, -5],\n",
    "    [-5,  0,  0,  0,  0,  0,  0, -5],\n",
    "    [-5,  0,  0,  0,  0,  0,  0, -5],\n",
    "    [-5,  0,  0,  0,  0,  0,  0, -5],\n",
    "    [0,  0,  0,  5,  5,  0,  0,  0]   \n",
    "])\n",
    "rook_weights_b = np.flipud(rook_weights_w)\n",
    "\n",
    "queen_weights_w = np.array([\n",
    "    [-20,-10,-10, -5, -5,-10,-10,-20],\n",
    "    [-10,  0,  0,  0,  0,  0,  0,-10],\n",
    "    [-10,  0,  5,  5,  5,  5,  0,-10],\n",
    "    [-5,  0,  5,  5,  5,  5,  0, -5],\n",
    "    [0,  0,  5,  5,  5,  5,  0, -5],\n",
    "    [-10,  5,  5,  5,  5,  5,  0,-10],\n",
    "    [-10,  0,  5,  0,  0,  0,  0,-10],\n",
    "    [-20,-10,-10, -5, -5,-10,-10,-20]  \n",
    "])\n",
    "queen_weights_b = np.flipud(queen_weights_w)\n",
    "\n",
    "king_weights_mid_w = np.array([\n",
    "    [-30,-40,-40,-50,-50,-40,-40,-30],\n",
    "    [-30,-40,-40,-50,-50,-40,-40,-30],\n",
    "    [-30,-40,-40,-50,-50,-40,-40,-30],\n",
    "    [-30,-40,-40,-50,-50,-40,-40,-30],\n",
    "    [-20,-30,-30,-40,-40,-30,-30,-20],\n",
    "    [-10,-20,-20,-20,-20,-20,-20,-10],\n",
    "    [20, 20,  0,  0,  0,  0, 20, 20],\n",
    "    [20, 30, 10,  0,  0, 10, 30, 20]\n",
    "])\n",
    "king_weights_mid_b = np.flipud(king_weights_mid_w)\n",
    "\n",
    "king_weights_late_w = np.array([\n",
    "    [-50,-40,-30,-20,-20,-30,-40,-50],\n",
    "    [-30,-20,-10,  0,  0,-10,-20,-30],\n",
    "    [-30,-10, 20, 30, 30, 20,-10,-30],\n",
    "    [-30,-10, 30, 40, 40, 30,-10,-30],\n",
    "    [-30,-10, 30, 40, 40, 30,-10,-30],\n",
    "    [-30,-10, 20, 30, 30, 20,-10,-30],\n",
    "    [-30,-30,  0,  0,  0,  0,-30,-30],\n",
    "    [-50,-30,-30,-30,-30,-30,-30,-50] \n",
    "])\n",
    "king_weights_late_b = np.flipud(king_weights_late_w)\n",
    "\n",
    "weights_w = [pawn_weights_w, knight_weights_w, bishop_weights_w,\n",
    "            rook_weights_w, queen_weights_w, king_weights_mid_w, king_weights_late_w]\n",
    "\n",
    "weights_b = [pawn_weights_b, knight_weights_b, bishop_weights_b,\n",
    "            rook_weights_b, queen_weights_b, king_weights_mid_b, king_weights_late_b]\n",
    "\n",
    "\n",
    "def evalPiece(piece, i, j, moveNum):\n",
    "\n",
    "    if piece == None:\n",
    "        return\n",
    "    weights = []\n",
    "    if piece.color == chess.WHITE:\n",
    "        weights = weights_w\n",
    "    elif piece.color == chess.BLACK:\n",
    "        weights = weights_b\n",
    "    else:\n",
    "        print(\"Invalid color\")\n",
    "        return 0\n",
    "    # possible also to add functionality for late game / mid game king positions. for different matrices\n",
    "    \n",
    "    pt = piece.piece_type\n",
    "    #print(\"Piece type: \", pt)\n",
    "    #print(\"i: \", i)\n",
    "    #print(\"j: \", j)\n",
    "    #print(\"Score: \", weights[pt-1][i][j])\n",
    "    if pt == 6:\n",
    "        if moveNum > limit:\n",
    "            return weights[pt][i][j]\n",
    "    return weights[pt-1][i][j]\n",
    "    \n",
    "def getBoardValue(board, color):\n",
    "    if color == chess.BLACK or color == chess.WHITE:\n",
    "        sum_of_weights = 0\n",
    "        count = 0\n",
    "        for i in range(7,-1,-1):\n",
    "            for j in range(7,-1,-1):\n",
    "                res =0\n",
    "                piece = board.piece_at(chess.SQUARES[i * 8 + j])\n",
    "                moveNum = board.fullmove_number\n",
    "                if  piece != None and piece.color == color:\n",
    "                    res = evalPiece(piece, i, j, moveNum)\n",
    "                    count += 1\n",
    "                if res != None:\n",
    "                    sum_of_weights += res\n",
    "        return sum_of_weights / count\n",
    "        #return sum_of_weights # can possibly add normalisation based on score / pieces left for given color\n",
    "    else:\n",
    "        print(\"Invalid color\")\n",
    "        return\n",
    "    \n",
    "\n",
    "pgn = open('../data/fics_202011_notime_50k.pgn')\n",
    "\n",
    "historyw = []\n",
    "historyb = []\n",
    "game = chess.pgn.read_game(pgn)\n",
    "game = chess.pgn.read_game(pgn)\n",
    "\n",
    "totalMoves = game.headers['PlyCount']\n",
    "print(\"PlyCount: \", totalMoves)\n",
    "limit = int(totalMoves) * 0.66\n",
    "\n",
    "\n",
    "white_elo = game.headers['WhiteElo']\n",
    "black_elo = game.headers['BlackElo']\n",
    "print(f'White Elo: {white_elo}, Black Elo: {black_elo}')\n",
    "print(f'Result for white: {get_game_result(game, chess.WHITE)}')\n",
    "\n",
    "board = game.board()\n",
    "\n",
    "\n",
    "for move in game.mainline_moves():\n",
    "    #print(board)\n",
    "    print('')\n",
    "    wscore = getBoardValue(board, chess.WHITE)\n",
    "    bscore = getBoardValue(board, chess.BLACK)\n",
    "    movNum = board.fullmove_number\n",
    "    #print(\"White Score: \",wscore)\n",
    "    #print('')\n",
    "    #print(\"Black Score: \",bscore)\n",
    "    #print(\"Full Move Number: \", movNum)\n",
    "    #print('')\n",
    "    historyw.append(wscore)\n",
    "    historyb.append(bscore)\n",
    "    board.push(move)\n",
    "\n",
    "\n",
    "advantage_w = [x-y for x, y in zip(historyw, historyb)]\n",
    "advantage_b = [y-x for x, y in zip(historyw, historyb)]\n",
    "\n",
    "    \n",
    "plt.figure(1, figsize=(6, 4))\n",
    "plt.title(\"White vs Black Score\")\n",
    "plt.plot(historyw, color = 'blue', label='white')\n",
    "plt.plot(historyb, color = 'red', label='black')\n",
    "plt.xlabel(\"Moves over time\")\n",
    "plt.ylabel(\"Pieces score sum / pieces left\")\n",
    "plt.legend()\n",
    "\n",
    "plt.show()\n",
    "\n",
    "plt.figure(1, figsize=(6, 4))\n",
    "plt.title(\"Advantage of players\")\n",
    "plt.plot(advantage_w, color = 'blue', label='White Score - Black Score')\n",
    "plt.plot(advantage_b, color = 'red', label='Black Score - White Score')\n",
    "plt.ylabel(\"White vs Black difference\")\n",
    "plt.xlabel(\"Moves over time\")\n",
    "plt.legend()\n",
    "\n",
    "plt.show()\n",
    "\n",
    "\n",
    "\n",
    "\n",
    "    \n",
    "        \n",
    "\n",
    "    \n",
    "\n"
   ]
  },
  {
   "cell_type": "code",
   "execution_count": null,
   "metadata": {},
   "outputs": [],
   "source": []
  }
 ],
 "metadata": {
  "kernelspec": {
   "display_name": "Python 3",
   "language": "python",
   "name": "python3"
  },
  "language_info": {
   "codemirror_mode": {
    "name": "ipython",
    "version": 3
   },
   "file_extension": ".py",
   "mimetype": "text/x-python",
   "name": "python",
   "nbconvert_exporter": "python",
   "pygments_lexer": "ipython3",
   "version": "3.8.6"
  }
 },
 "nbformat": 4,
 "nbformat_minor": 4
}
