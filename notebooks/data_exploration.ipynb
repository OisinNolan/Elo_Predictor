{
 "cells": [
  {
   "cell_type": "markdown",
   "metadata": {},
   "source": [
    "# Some experiments on PGN data"
   ]
  },
  {
   "cell_type": "markdown",
   "metadata": {},
   "source": [
    "### Imports"
   ]
  },
  {
   "cell_type": "markdown",
   "metadata": {},
   "source": [
    "import os\n",
    "import time\n",
    "import chess\n",
    "import chess.pgn"
   ]
  },
  {
   "cell_type": "markdown",
   "metadata": {},
   "source": [
    "### Parsing 50k games"
   ]
  },
  {
   "cell_type": "code",
   "execution_count": 19,
   "metadata": {},
   "outputs": [
    {
     "name": "stdout",
     "output_type": "stream",
     "text": [
      "Time elapsed: 274.8620150089264\n"
     ]
    }
   ],
   "source": [
    "start = time.time()\n",
    "\n",
    "pgn = open('../data/fics_202011_notime_50k.pgn')\n",
    "\n",
    "def doNothing():\n",
    "    return\n",
    "\n",
    "while chess.pgn.read_game(pgn):\n",
    "    doNothing()\n",
    "\n",
    "end = time.time()\n",
    "print(f'Time elapsed: {end - start}')"
   ]
  },
  {
   "cell_type": "markdown",
   "metadata": {},
   "source": [
    "### Calculating relative value of pieces for a given colour"
   ]
  },
  {
   "cell_type": "code",
   "execution_count": 30,
   "metadata": {},
   "outputs": [],
   "source": [
    "# [pawn, knight, bishop, rook, queen], see https://en.wikipedia.org/wiki/Chess_piece_relative_value\n",
    "piece_values = [1, 3, 3, 5, 9]\n",
    "\n",
    "# Given chess.Board and chess.Color\n",
    "# Returns sum of piece values for that color\n",
    "def get_piece_value(board, color):\n",
    "    piece_value_sum = 0\n",
    "    for i in range(0, 5):\n",
    "        piece_value_sum += piece_values[i] * len(board.pieces(i+1, color))\n",
    "    return piece_value_sum"
   ]
  },
  {
   "cell_type": "code",
   "execution_count": 32,
   "metadata": {},
   "outputs": [
    {
     "data": {
      "text/plain": [
       "39"
      ]
     },
     "execution_count": 32,
     "metadata": {},
     "output_type": "execute_result"
    }
   ],
   "source": [
    "pgn = open('../data/fics_202011_notime_50k.pgn')\n",
    "\n",
    "game = chess.pgn.read_game(pgn)\n",
    "board = game.board()\n",
    "get_piece_value(board, chess.BLACK)"
   ]
  }
 ],
 "metadata": {
  "kernelspec": {
   "display_name": "Python 3",
   "language": "python",
   "name": "python3"
  },
  "language_info": {
   "codemirror_mode": {
    "name": "ipython",
    "version": 3
   },
   "file_extension": ".py",
   "mimetype": "text/x-python",
   "name": "python",
   "nbconvert_exporter": "python",
   "pygments_lexer": "ipython3",
   "version": "3.7.6"
  }
 },
 "nbformat": 4,
 "nbformat_minor": 4
}
