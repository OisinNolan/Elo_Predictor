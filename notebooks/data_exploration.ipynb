{
 "cells": [
  {
   "cell_type": "markdown",
   "metadata": {},
   "source": [
    "# Some experiments on PGN data"
   ]
  },
  {
   "cell_type": "markdown",
   "metadata": {},
   "source": [
    "### Imports"
   ]
  },
  {
   "cell_type": "code",
   "execution_count": 34,
   "metadata": {},
   "outputs": [],
   "source": [
    "import os\n",
    "import time\n",
    "import chess\n",
    "import chess.pgn"
   ]
  },
  {
   "cell_type": "markdown",
   "metadata": {},
   "source": [
    "### Parsing 50k games"
   ]
  },
  {
   "cell_type": "code",
   "execution_count": 19,
   "metadata": {},
   "outputs": [
    {
     "name": "stdout",
     "output_type": "stream",
     "text": [
      "Time elapsed: 274.8620150089264\n"
     ]
    }
   ],
   "source": [
    "start = time.time()\n",
    "\n",
    "pgn = open('../data/fics_202011_notime_50k.pgn')\n",
    "\n",
    "def doNothing():\n",
    "    return\n",
    "\n",
    "while chess.pgn.read_game(pgn):\n",
    "    doNothing()\n",
    "\n",
    "end = time.time()\n",
    "print(f'Time elapsed: {end - start}')"
   ]
  },
  {
   "cell_type": "markdown",
   "metadata": {},
   "source": [
    "### Calculating relative value of pieces for a given colour"
   ]
  },
  {
   "cell_type": "code",
   "execution_count": 30,
   "metadata": {},
   "outputs": [],
   "source": [
    "# [pawn, knight, bishop, rook, queen], see https://en.wikipedia.org/wiki/Chess_piece_relative_value\n",
    "piece_values = [1, 3, 3, 5, 9]\n",
    "\n",
    "# Given chess.Board and chess.Color\n",
    "# Returns sum of piece values for that color\n",
    "def get_piece_value(board, color):\n",
    "    piece_value_sum = 0\n",
    "    for i in range(0, 5):\n",
    "        piece_value_sum += piece_values[i] * len(board.pieces(i+1, color))\n",
    "    return piece_value_sum"
   ]
  },
  {
   "cell_type": "code",
   "execution_count": 32,
   "metadata": {},
   "outputs": [
    {
     "data": {
      "text/plain": [
       "39"
      ]
     },
     "execution_count": 32,
     "metadata": {},
     "output_type": "execute_result"
    }
   ],
   "source": [
    "pgn = open('../data/fics_202011_notime_50k.pgn')\n",
    "\n",
    "game = chess.pgn.read_game(pgn)\n",
    "board = game.board()\n",
    "get_piece_value(board, chess.BLACK)"
   ]
  },
  {
   "cell_type": "markdown",
   "metadata": {},
   "source": [
    "### Game metadata"
   ]
  },
  {
   "cell_type": "code",
   "execution_count": 51,
   "metadata": {},
   "outputs": [
    {
     "data": {
      "text/plain": [
       "Headers(Event='FICS rated blitz game', Site='FICS freechess.org', Date='2020.11.30', Round='?', White='stevharr', Black='nimzoii', Result='1-0', BlackClock='0:05:00.000', BlackElo='1337', BlackRD='0.0', ECO='B32', FICSGamesDBGameNo='474470039', PlyCount='117', Time='23:49:00', TimeControl='300+0', WhiteClock='0:05:00.000', WhiteElo='1677', WhiteRD='0.0')"
      ]
     },
     "execution_count": 51,
     "metadata": {},
     "output_type": "execute_result"
    }
   ],
   "source": [
    "game.headers"
   ]
  },
  {
   "cell_type": "code",
   "execution_count": null,
   "metadata": {},
   "outputs": [],
   "source": [
    "# Given chess.pgn.Game and chess.Color\n",
    "# Return -1 if draw, 1 if color won, 0 if color lost.\n",
    "def get_game_result(game, color):\n",
    "    if '1/2' in game.headers['Result']:\n",
    "        return -1\n",
    "    elif color == chess.WHITE:\n",
    "        return game.headers['Result'][0]\n",
    "    else:\n",
    "        return game.headers['Result'][2]"
   ]
  },
  {
   "cell_type": "code",
   "execution_count": 53,
   "metadata": {},
   "outputs": [
    {
     "name": "stdout",
     "output_type": "stream",
     "text": [
      "White Elo: 1677, Black Elo: 1337\n",
      "Result for white: 1\n"
     ]
    }
   ],
   "source": [
    "white_elo = game.headers['WhiteElo']\n",
    "black_elo = game.headers['BlackElo']\n",
    "    \n",
    "print(f'White Elo: {white_elo}, Black Elo: {black_elo}')\n",
    "print(f'Result for white: {get_game_result(game, chess.WHITE)}')"
   ]
  }
 ],
 "metadata": {
  "kernelspec": {
   "display_name": "Python 3",
   "language": "python",
   "name": "python3"
  },
  "language_info": {
   "codemirror_mode": {
    "name": "ipython",
    "version": 3
   },
   "file_extension": ".py",
   "mimetype": "text/x-python",
   "name": "python",
   "nbconvert_exporter": "python",
   "pygments_lexer": "ipython3",
   "version": "3.7.6"
  }
 },
 "nbformat": 4,
 "nbformat_minor": 4
}
