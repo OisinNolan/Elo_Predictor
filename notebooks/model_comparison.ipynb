{
 "cells": [
  {
   "cell_type": "code",
   "execution_count": 30,
   "metadata": {},
   "outputs": [],
   "source": [
    "import numpy as np\n",
    "import pandas as pd\n",
    "from sklearn.metrics import mean_squared_error\n",
    "from sklearn.dummy import DummyRegressor\n",
    "from sklearn.linear_model import LinearRegression, Ridge\n",
    "from sklearn.model_selection import train_test_split\n",
    "import os\n",
    "import time"
   ]
  },
  {
   "cell_type": "code",
   "execution_count": 49,
   "metadata": {},
   "outputs": [],
   "source": [
    "def read_data():\n",
    "    # read in input\n",
    "    X = np.genfromtxt('../data/x_50k_50.csv', dtype=int, delimiter=',', names=None)\n",
    "    y = np.genfromtxt('../data/y_50k.csv', dtype=int, delimiter=',', names=None)\n",
    "    return X, y"
   ]
  },
  {
   "cell_type": "code",
   "execution_count": 50,
   "metadata": {},
   "outputs": [
    {
     "name": "stdout",
     "output_type": "stream",
     "text": [
      "LinearRegression score 0.20953947549070442\n",
      "MSE for LinearRegression: 65151.6903\n",
      "DummyRegressor score -1.3963427299312768e-05\n",
      "MSE for DummyRegressor: 82423.5974\n",
      "Diff: -17271.9071, Ratio: 0.7904\n",
      "Time elapsed: 40.06357526779175\n"
     ]
    }
   ],
   "source": [
    "start = time.time()\n",
    "\n",
    "X, y = read_data()\n",
    "X_train, X_test, y_train, y_test = train_test_split(X, y, test_size=0.2)\n",
    "\n",
    "model = LinearRegression()\n",
    "model.fit(X_train, y_train)\n",
    "y_pred = model.predict(X_test)\n",
    "print(f'LinearRegression score {model.score(X_test,y_test)}')\n",
    "er1 = mean_squared_error(y_test, y_pred)\n",
    "print(\"MSE for LinearRegression: %.4f\" % (er1))\n",
    "\n",
    "baseline = DummyRegressor()\n",
    "baseline.fit(X_train, y_train)\n",
    "ydummy = baseline.predict(X_test)\n",
    "print(f'DummyRegressor score {baseline.score(X_test, y_test)}')\n",
    "er2 = mean_squared_error(y_test, ydummy)\n",
    "print(\"MSE for DummyRegressor: %.4f\" % (er2))\n",
    "\n",
    "print(\"Diff: %.4f, Ratio: %.4f\" % (er1-er2, er1/er2))\n",
    "\n",
    "end = time.time()\n",
    "print(f'Time elapsed: {end - start}')"
   ]
  }
 ],
 "metadata": {
  "kernelspec": {
   "display_name": "Python 3",
   "language": "python",
   "name": "python3"
  },
  "language_info": {
   "codemirror_mode": {
    "name": "ipython",
    "version": 3
   },
   "file_extension": ".py",
   "mimetype": "text/x-python",
   "name": "python",
   "nbconvert_exporter": "python",
   "pygments_lexer": "ipython3",
   "version": "3.7.6"
  }
 },
 "nbformat": 4,
 "nbformat_minor": 4
}
