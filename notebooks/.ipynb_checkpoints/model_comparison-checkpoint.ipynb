{
 "cells": [
  {
   "cell_type": "code",
   "execution_count": 30,
   "metadata": {},
   "outputs": [],
   "source": [
    "import numpy as np\n",
    "import pandas as pd\n",
    "from sklearn.metrics import mean_squared_error\n",
    "from sklearn.dummy import DummyRegressor\n",
    "from sklearn.linear_model import LinearRegression, Ridge\n",
    "from sklearn.model_selection import train_test_split\n",
    "import os\n",
    "import time"
   ]
  },
  {
   "cell_type": "code",
   "execution_count": 54,
   "metadata": {},
   "outputs": [],
   "source": [
    "def read_data():\n",
    "    # read in input\n",
    "    X = np.genfromtxt('../data/x_adv.csv', dtype=int, delimiter=',', names=None)\n",
    "    y = np.genfromtxt('../data/y.csv', dtype=int, delimiter=',', names=None)\n",
    "    return X, y"
   ]
  },
  {
   "cell_type": "code",
   "execution_count": 62,
   "metadata": {},
   "outputs": [
    {
     "name": "stdout",
     "output_type": "stream",
     "text": [
      "LinearRegression score -0.36468728886918655\n",
      "MSE for LinearRegression: 73858.7026\n",
      "DummyRegressor score -0.0024112867109453706\n",
      "MSE for DummyRegressor: 54251.8405\n",
      "Diff: 19606.8621, Ratio: 1.3614\n"
     ]
    },
    {
     "name": "stderr",
     "output_type": "stream",
     "text": [
      "/opt/anaconda3/lib/python3.7/site-packages/sklearn/linear_model/_coordinate_descent.py:476: ConvergenceWarning: Objective did not converge. You might want to increase the number of iterations. Duality gap: 2324458.284494601, tolerance: 4456.588262\n",
      "  positive)\n",
      "/opt/anaconda3/lib/python3.7/site-packages/sklearn/linear_model/_coordinate_descent.py:476: ConvergenceWarning: Objective did not converge. You might want to increase the number of iterations. Duality gap: 1850492.520278778, tolerance: 4334.933662\n",
      "  positive)\n",
      "/opt/anaconda3/lib/python3.7/site-packages/sklearn/linear_model/_coordinate_descent.py:476: ConvergenceWarning: Objective did not converge. You might want to increase the number of iterations. Duality gap: 2201622.98124893, tolerance: 4476.774158\n",
      "  positive)\n",
      "/opt/anaconda3/lib/python3.7/site-packages/sklearn/linear_model/_coordinate_descent.py:476: ConvergenceWarning: Objective did not converge. You might want to increase the number of iterations. Duality gap: 235546.66362072527, tolerance: 4337.483096875\n",
      "  positive)\n",
      "/opt/anaconda3/lib/python3.7/site-packages/sklearn/linear_model/_coordinate_descent.py:476: ConvergenceWarning: Objective did not converge. You might want to increase the number of iterations. Duality gap: 1836103.99857359, tolerance: 4303.836396875\n",
      "  positive)\n"
     ]
    },
    {
     "data": {
      "image/png": "[encoded data removed]",
      "text/plain": [
       "<Figure size 720x432 with 1 Axes>"
      ]
     },
     "metadata": {
      "needs_background": "light"
     },
     "output_type": "display_data"
    },
    {
     "name": "stdout",
     "output_type": "stream",
     "text": [
      "Time elapsed: 0.6348721981048584\n"
     ]
    }
   ],
   "source": [
    "from sklearn import linear_model\n",
    "from sklearn.model_selection import cross_val_score\n",
    "import matplotlib.pyplot as plt\n",
    "\n",
    "start = time.time()\n",
    "\n",
    "X, y = read_data()\n",
    "X_train, X_test, y_train, y_test = train_test_split(X, y, test_size=0.2)\n",
    "\n",
    "model = LinearRegression()\n",
    "model.fit(X_train, y_train)\n",
    "y_pred = model.predict(X_test)\n",
    "print(f'LinearRegression score {model.score(X_test,y_test)}')\n",
    "er1 = mean_squared_error(y_test, y_pred)\n",
    "print(\"MSE for LinearRegression: %.4f\" % (er1))\n",
    "\n",
    "baseline = DummyRegressor()\n",
    "baseline.fit(X_train, y_train)\n",
    "ydummy = baseline.predict(X_test)\n",
    "print(f'DummyRegressor score {baseline.score(X_test, y_test)}')\n",
    "er2 = mean_squared_error(y_test, ydummy)\n",
    "print(\"MSE for DummyRegressor: %.4f\" % (er2))\n",
    "\n",
    "print(\"Diff: %.4f, Ratio: %.4f\" % (er1-er2, er1/er2))\n",
    "\n",
    "C = [0.0001, 0.001, 0.01, 0.1, 1]\n",
    "accuracy = []\n",
    "std = []\n",
    "\n",
    "for c in C:\n",
    "    model = linear_model.Lasso(alpha = 1/(2*c))\n",
    "    scores = cross_val_score(model, X, y, cv=5)\n",
    "    accuracy.append(scores.mean())\n",
    "    std.append(scores.std())\n",
    "    \n",
    "plt.errorbar(C, accuracy, yerr=std)\n",
    "plt.xlabel('c')\n",
    "plt.ylabel('Accuracy')\n",
    "plt.gcf().set_size_inches(10, 6)\n",
    "plt.show()\n",
    "\n",
    "end = time.time()\n",
    "print(f'Time elapsed: {end - start}')"
   ]
  }
 ],
 "metadata": {
  "kernelspec": {
   "display_name": "Python 3",
   "language": "python",
   "name": "python3"
  },
  "language_info": {
   "codemirror_mode": {
    "name": "ipython",
    "version": 3
   },
   "file_extension": ".py",
   "mimetype": "text/x-python",
   "name": "python",
   "nbconvert_exporter": "python",
   "pygments_lexer": "ipython3",
   "version": "3.7.6"
  }
 },
 "nbformat": 4,
 "nbformat_minor": 4
}
