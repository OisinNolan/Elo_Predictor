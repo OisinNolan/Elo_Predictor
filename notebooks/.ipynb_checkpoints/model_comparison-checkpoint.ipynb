{
 "cells": [
  {
   "cell_type": "markdown",
   "metadata": {},
   "source": [
    "# Model Comparison\n",
    "- Comparing KNN and LinearRegression models to a dummy regressor"
   ]
  },
  {
   "cell_type": "markdown",
   "metadata": {},
   "source": [
    "### Baseline\n",
    "- Dummy Regressor predicts mean Elo from y training data every time"
   ]
  },
  {
   "cell_type": "code",
   "execution_count": null,
   "metadata": {},
   "outputs": [],
   "source": [
    "X = []\n",
    "y = np.load('../data/y/1k.npy')"
   ]
  },
  {
   "cell_type": "code",
   "execution_count": 96,
   "metadata": {},
   "outputs": [
    {
     "name": "stdout",
     "output_type": "stream",
     "text": [
      "Fit time: 0.0006051778793334961\n",
      "MAE: 184.85629111111112\n"
     ]
    }
   ],
   "source": [
    "import numpy as np\n",
    "from sklearn.dummy import DummyRegressor\n",
    "from sklearn.model_selection import cross_validate\n",
    "\n",
    "baseline = DummyRegressor()\n",
    "cv_results = cross_validate(baseline, X, y, cv=10, scoring='neg_mean_absolute_error')\n",
    "baseline_fit_time = np.mean(cv_results['fit_time'])\n",
    "print(f'Fit time: {baseline_fit_time}')\n",
    "baseline_mae = -np.mean(cv_results['test_score'])\n",
    "print(f'MAE: {baseline_mae}')"
   ]
  },
  {
   "cell_type": "code",
   "execution_count": 114,
   "metadata": {},
   "outputs": [],
   "source": [
    "def mae_ratio(mae):\n",
    "    return 1 - (mae / baseline_mae)"
   ]
  },
  {
   "cell_type": "markdown",
   "metadata": {},
   "source": [
    "### KNN\n",
    "- 'Game as vec' training data\n",
    "- Each game is a concatenation of board states represented as vectors"
   ]
  },
  {
   "cell_type": "code",
   "execution_count": 91,
   "metadata": {},
   "outputs": [],
   "source": [
    "X = np.load('../data/x/game_as_vec/1k_15.npy')\n",
    "y = np.load('../data/y/1k.npy')"
   ]
  },
  {
   "cell_type": "code",
   "execution_count": 115,
   "metadata": {},
   "outputs": [
    {
     "name": "stdout",
     "output_type": "stream",
     "text": [
      "Fit time: 0.0034140586853027345\n",
      "MAE: 181.91141666666667\n",
      "MAE Ratio: 0.015930615218685662\n"
     ]
    }
   ],
   "source": [
    "from sklearn.neighbors import KNeighborsRegressor\n",
    "\n",
    "knn_model = KNeighborsRegressor(n_neighbors = 12, weights = 'uniform', metric='hamming')\n",
    "cv_results = cross_validate(knn_model, X, y, cv=10, scoring='neg_mean_absolute_error')\n",
    "knn_fit_time = np.mean(cv_results['fit_time'])\n",
    "print(f'Fit time: {knn_fit_time}')\n",
    "knn_mae = -np.mean(cv_results['test_score'])\n",
    "print(f'MAE: {knn_mae}')\n",
    "print(f'MAE Ratio: {mae_ratio(knn_mae)}')"
   ]
  },
  {
   "cell_type": "markdown",
   "metadata": {},
   "source": [
    "### Linear Regression\n",
    "- Game is vector containing features estimating player advantage"
   ]
  },
  {
   "cell_type": "code",
   "execution_count": 103,
   "metadata": {},
   "outputs": [],
   "source": [
    "X = np.loadtxt('../data/x/piece_pos_advantage/1k_15.csv', delimiter=',')\n",
    "y = np.load('../data/y/1k.npy')"
   ]
  },
  {
   "cell_type": "code",
   "execution_count": 116,
   "metadata": {},
   "outputs": [
    {
     "name": "stdout",
     "output_type": "stream",
     "text": [
      "Fit time: 0.0060596466064453125\n",
      "MAE: 187.9525545529679\n",
      "MAE Ratio: -0.016749570291852978\n"
     ]
    }
   ],
   "source": [
    "from sklearn.linear_model import LinearRegression\n",
    "\n",
    "lr_model = LinearRegression()\n",
    "cv_results = cross_validate(lr_model, X, y, cv=10, scoring='neg_mean_absolute_error')\n",
    "lr_fit_time = np.mean(cv_results['fit_time'])\n",
    "print(f'Fit time: {lr_fit_time}')\n",
    "lr_mae = -np.mean(cv_results['test_score'])\n",
    "print(f'MAE: {lr_mae}')\n",
    "print(f'MAE Ratio: {mae_ratio(lr_mae)}')"
   ]
  }
 ],
 "metadata": {
  "kernelspec": {
   "display_name": "Python 3",
   "language": "python",
   "name": "python3"
  },
  "language_info": {
   "codemirror_mode": {
    "name": "ipython",
    "version": 3
   },
   "file_extension": ".py",
   "mimetype": "text/x-python",
   "name": "python",
   "nbconvert_exporter": "python",
   "pygments_lexer": "ipython3",
   "version": "3.7.6"
  }
 },
 "nbformat": 4,
 "nbformat_minor": 4
}
