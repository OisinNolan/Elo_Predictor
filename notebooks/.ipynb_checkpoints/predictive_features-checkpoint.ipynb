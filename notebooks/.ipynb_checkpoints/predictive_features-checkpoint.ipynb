{
 "cells": [
  {
   "cell_type": "code",
   "execution_count": 14,
   "metadata": {},
   "outputs": [],
   "source": [
    "import os\n",
    "import time\n",
    "import chess\n",
    "import chess.pgn\n",
    "\n",
    "import numpy as np\n",
    "import pathlib"
   ]
  },
  {
   "cell_type": "code",
   "execution_count": 55,
   "metadata": {},
   "outputs": [],
   "source": [
    "#https://www.chessprogramming.org/Simplified_Evaluation_Function#Piece-Square_Tables\n",
    "\n",
    "pawn_weights_w = np.array([\n",
    "    [0,  0,  0,  0,  0,  0,  0,  0],\n",
    "    [50, 50, 50, 50, 50, 50, 50, 50],\n",
    "    [10, 10, 20, 30, 30, 20, 10, 10],\n",
    "    [5,  5, 10, 25, 25, 10,  5,  5],\n",
    "    [0,  0,  0, 20, 20,  0,  0,  0],\n",
    "    [5, -5,-10,  0,  0,-10, -5,  5],\n",
    "    [5, 10, 10,-20,-20, 10, 10,  5],\n",
    "    [0,  0,  0,  0,  0,  0,  0,  0]\n",
    "])\n",
    "pawn_weights_b = np.flipud(pawn_weights_w)\n",
    "    \n",
    "knight_weights_w = np.array([\n",
    "    [-50,-40,-30,-30,-30,-30,-40,-50],\n",
    "    [-40,-20,  0,  0,  0,  0,-20,-40],\n",
    "    [-30,  0, 10, 15, 15, 10,  0,-30],\n",
    "    [-30,  5, 15, 20, 20, 15,  5,-30],\n",
    "    [-30,  0, 15, 20, 20, 15,  0,-30],\n",
    "    [-30,  5, 10, 15, 15, 10,  5,-30],\n",
    "    [-40,-20,  0,  5,  5,  0,-20,-40],\n",
    "    [-50,-40,-30,-30,-30,-30,-40,-50]\n",
    "])\n",
    "knight_weights_b = np.flipud(knight_weights_w)\n",
    "\n",
    "bishop_weights_w = np.array([\n",
    "    [-20,-10,-10,-10,-10,-10,-10,-20],\n",
    "    [-10,  0,  0,  0,  0,  0,  0,-10],\n",
    "    [-10,  0,  5, 10, 10,  5,  0,-10],\n",
    "    [-10,  5,  5, 10, 10,  5,  5,-10],\n",
    "    [-10,  0, 10, 10, 10, 10,  0,-10],\n",
    "    [-10, 10, 10, 10, 10, 10, 10,-10],\n",
    "    [-10,  5,  0,  0,  0,  0,  5,-10],\n",
    "    [-20,-10,-10,-10,-10,-10,-10,-20]  \n",
    "])\n",
    "bishop_weights_b = np.flipud(bishop_weights_w)\n",
    "\n",
    "rook_weights_w = np.array([\n",
    "    [0,  0,  0,  0,  0,  0,  0,  0],\n",
    "    [5, 10, 10, 10, 10, 10, 10,  5],\n",
    "    [-5,  0,  0,  0,  0,  0,  0, -5],\n",
    "    [-5,  0,  0,  0,  0,  0,  0, -5],\n",
    "    [-5,  0,  0,  0,  0,  0,  0, -5],\n",
    "    [-5,  0,  0,  0,  0,  0,  0, -5],\n",
    "    [-5,  0,  0,  0,  0,  0,  0, -5],\n",
    "    [0,  0,  0,  5,  5,  0,  0,  0]   \n",
    "])\n",
    "rook_weights_b = np.flipud(rook_weights_w)\n",
    "\n",
    "queen_weights_w = np.array([\n",
    "    [-20,-10,-10, -5, -5,-10,-10,-20],\n",
    "    [-10,  0,  0,  0,  0,  0,  0,-10],\n",
    "    [-10,  0,  5,  5,  5,  5,  0,-10],\n",
    "    [-5,  0,  5,  5,  5,  5,  0, -5],\n",
    "    [0,  0,  5,  5,  5,  5,  0, -5],\n",
    "    [-10,  5,  5,  5,  5,  5,  0,-10],\n",
    "    [-10,  0,  5,  0,  0,  0,  0,-10],\n",
    "    [-20,-10,-10, -5, -5,-10,-10,-20]  \n",
    "])\n",
    "queen_weights_b = np.flipud(queen_weights_w)\n",
    "\n",
    "king_weights_mid_w = np.array([\n",
    "    [-30,-40,-40,-50,-50,-40,-40,-30],\n",
    "    [-30,-40,-40,-50,-50,-40,-40,-30],\n",
    "    [-30,-40,-40,-50,-50,-40,-40,-30],\n",
    "    [-30,-40,-40,-50,-50,-40,-40,-30],\n",
    "    [-20,-30,-30,-40,-40,-30,-30,-20],\n",
    "    [-10,-20,-20,-20,-20,-20,-20,-10],\n",
    "    [20, 20,  0,  0,  0,  0, 20, 20],\n",
    "    [20, 30, 10,  0,  0, 10, 30, 20]\n",
    "])\n",
    "king_weights_mid_b = np.flipud(king_weights_mid_w)\n",
    "\n",
    "king_weights_late_w = np.array([\n",
    "    [-50,-40,-30,-20,-20,-30,-40,-50],\n",
    "    [-30,-20,-10,  0,  0,-10,-20,-30],\n",
    "    [-30,-10, 20, 30, 30, 20,-10,-30],\n",
    "    [-30,-10, 30, 40, 40, 30,-10,-30],\n",
    "    [-30,-10, 30, 40, 40, 30,-10,-30],\n",
    "    [-30,-10, 20, 30, 30, 20,-10,-30],\n",
    "    [-30,-30,  0,  0,  0,  0,-30,-30],\n",
    "    [-50,-30,-30,-30,-30,-30,-30,-50] \n",
    "])\n",
    "king_weights_late_b = np.flipud(king_weights_late_w)\n",
    "\n",
    "weights_w = [pawn_weights_w, knight_weights_w, bishop_weights_w,\n",
    "            rook_weights_w, queen_weights_w, king_weights_mid_w, king_weights_late_w]\n",
    "\n",
    "weights_b = [pawn_weights_b, knight_weights_b, bishop_weights_b,\n",
    "            rook_weights_b, queen_weights_b, king_weights_mid_b, king_weights_late_b]\n",
    "\n",
    "PIECES_VALUES = [1, 3, 3, 5, 9, 0]"
   ]
  },
  {
   "cell_type": "code",
   "execution_count": 53,
   "metadata": {},
   "outputs": [],
   "source": [
    "# Gets number indicating how strong the positioning of a given piece is\n",
    "def get_piece_position_value(piece, i, j, moveNum, limit):\n",
    "    if piece == None:\n",
    "        return\n",
    "    weights = []\n",
    "    if piece.color == chess.WHITE:\n",
    "        weights = weights_w\n",
    "    elif piece.color == chess.BLACK:\n",
    "        weights = weights_b\n",
    "    else:\n",
    "        print(\"Invalid color\")\n",
    "        return 0\n",
    "    \n",
    "    pt = piece.piece_type\n",
    "    if pt == 6:\n",
    "        if moveNum > limit:\n",
    "            return weights[pt][i][j]\n",
    "    return weights[pt-1][i][j] * PIECES_VALUES[pt-1]\n",
    "\n",
    "# Gives number indicating how strong a given player's position is\n",
    "def get_board_position_value(board, color, limit):\n",
    "    if color != chess.BLACK and color != chess.WHITE:\n",
    "        return\n",
    "    sum_of_weights = 0\n",
    "    count = 0\n",
    "    for i in range(7,-1,-1):\n",
    "        for j in range(7,-1,-1):\n",
    "            res = 0\n",
    "            piece = board.piece_at(chess.SQUARES[i * 8 + j])\n",
    "            moveNum = board.fullmove_number\n",
    "            if  piece != None and piece.color == color:\n",
    "                res = get_piece_position_value(piece, i, j, moveNum, limit)\n",
    "                count += 1\n",
    "            if res != None:\n",
    "                sum_of_weights += res\n",
    "    return sum_of_weights / count"
   ]
  },
  {
   "cell_type": "code",
   "execution_count": 71,
   "metadata": {},
   "outputs": [],
   "source": [
    "'''\n",
    "Reads in GAMES_LIMIT games from the input file and calculates\n",
    "some very basic features. Outputs the features in x.csv, and\n",
    "outputs into y.csv.\n",
    "'''\n",
    "\n",
    "# Global variables\n",
    "GAMES_LIMIT = 1000\n",
    "MOVES_LIMIT = 50\n",
    "\n",
    "pgn = open(f'../data/fics_202011_notime_50k.pgn')\n",
    "games = []\n",
    "for i in range(GAMES_LIMIT):\n",
    "    game = chess.pgn.read_game(pgn)\n",
    "    games.append(game)"
   ]
  },
  {
   "cell_type": "code",
   "execution_count": 72,
   "metadata": {},
   "outputs": [
    {
     "name": "stderr",
     "output_type": "stream",
     "text": [
      "/opt/anaconda3/lib/python3.7/site-packages/numpy/core/fromnumeric.py:3335: RuntimeWarning: Mean of empty slice.\n",
      "  out=out, **kwargs)\n",
      "/opt/anaconda3/lib/python3.7/site-packages/numpy/core/_methods.py:161: RuntimeWarning: invalid value encountered in double_scalars\n",
      "  ret = ret.dtype.type(ret / rcount)\n"
     ]
    }
   ],
   "source": [
    "elos = []\n",
    "mean_position_value = []\n",
    "\n",
    "for j in range(GAMES_LIMIT):\n",
    "    game = games[j]\n",
    "    board = game.board()\n",
    "\n",
    "    position_values = []\n",
    "    i = 0\n",
    "    for move in game.mainline_moves():\n",
    "        if i >= MOVES_LIMIT:\n",
    "            break\n",
    "        board.push(move)\n",
    "        position_values.append(get_board_position_value(board, chess.WHITE, 0.66 * int(game.headers['PlyCount'])))\n",
    "        i += 1\n",
    "        \n",
    "    elos.append(game.headers['WhiteElo'])\n",
    "    mean_position_value.append(np.mean(position_values))"
   ]
  },
  {
   "cell_type": "code",
   "execution_count": 79,
   "metadata": {},
   "outputs": [
    {
     "name": "stderr",
     "output_type": "stream",
     "text": [
      "/opt/anaconda3/lib/python3.7/site-packages/ipykernel_launcher.py:6: UserWarning: 'set_params()' not defined for locator of type <class 'matplotlib.category.StrCategoryLocator'>\n",
      "  \n"
     ]
    },
    {
     "data": {
      "image/png": "[encoded data removed]",
      "text/plain": [
       "<Figure size 432x288 with 1 Axes>"
      ]
     },
     "metadata": {
      "needs_background": "light"
     },
     "output_type": "display_data"
    }
   ],
   "source": [
    "import matplotlib.pyplot as plt\n",
    "\n",
    "plt.scatter(elos, mean_position_value, color='black', marker='+', linewidth=1)\n",
    "plt.xlabel('Elo')\n",
    "plt.ylabel('Mean Position Value')\n",
    "plt.show()"
   ]
  }
 ],
 "metadata": {
  "kernelspec": {
   "display_name": "Python 3",
   "language": "python",
   "name": "python3"
  },
  "language_info": {
   "codemirror_mode": {
    "name": "ipython",
    "version": 3
   },
   "file_extension": ".py",
   "mimetype": "text/x-python",
   "name": "python",
   "nbconvert_exporter": "python",
   "pygments_lexer": "ipython3",
   "version": "3.7.6"
  }
 },
 "nbformat": 4,
 "nbformat_minor": 4
}
